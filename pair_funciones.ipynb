{
 "cells": [
  {
   "cell_type": "markdown",
   "metadata": {},
   "source": [
    "\n",
    "1.Calcular el área de un círculo.\n",
    "\n",
    "Descripción: Crea una función llamada calcular_area_circulo que tome el radio como parámetro y devuelva el área del círculo.\n",
    "\n",
    "A = 3,14 * r2\n"
   ]
  },
  {
   "cell_type": "code",
   "execution_count": null,
   "metadata": {},
   "outputs": [],
   "source": []
  },
  {
   "cell_type": "markdown",
   "metadata": {},
   "source": [
    "\n",
    "2.Contar la cantidad de caracteres en una cadena.\n",
    "\n",
    "Descripción: Crea una función llamada contar_caracteres que tome una cadena como parámetro y devuelva la cantidad de caracteres que contiene."
   ]
  },
  {
   "cell_type": "code",
   "execution_count": 1,
   "metadata": {},
   "outputs": [
    {
     "name": "stdout",
     "output_type": "stream",
     "text": [
      "26\n"
     ]
    }
   ],
   "source": [
    "def contar_caracteres (cadena):\n",
    "    cont_car = len(cadena)\n",
    "    return cont_car\n",
    "\n",
    "print(contar_caracteres (\"¿Tengo que tener espacios?\"))"
   ]
  },
  {
   "cell_type": "markdown",
   "metadata": {},
   "source": [
    "3.Determinar si una cadena es un palíndromo.\n",
    "\n",
    "Descripción: Crea una función llamada es_palindromo que tome una cadena como parámetro y devuelva True si es un palíndromo, o False si no lo es.\n",
    "\n",
    "Palindromo = Palabra o frase cuyas letras están dispuestas de tal manera que resulta la misma leída de izquierda a derecha que de derecha a izquierda"
   ]
  },
  {
   "cell_type": "code",
   "execution_count": 10,
   "metadata": {},
   "outputs": [
    {
     "name": "stdout",
     "output_type": "stream",
     "text": [
      "True\n",
      "False\n"
     ]
    }
   ],
   "source": [
    "def es_palindromo(cadena):\n",
    "    cadena_limpia =cadena.replace(\" \", \"\")\n",
    "    if (cadena_limpia [::-1] == cadena_limpia):\n",
    "        palindromo = True\n",
    "    else:\n",
    "        palindromo = False\n",
    "    return palindromo\n",
    "print(es_palindromo(\"se verlas al reves\"))\n",
    "print(es_palindromo(\"nos gustan las funciones\"))\n",
    "    \n"
   ]
  },
  {
   "cell_type": "markdown",
   "metadata": {},
   "source": [
    "\n",
    "4.Calcular el promedio de una lista de números.\n",
    "\n",
    "Descripción: Crea una función llamada calcular_promedio que tome una lista de números como parámetro y devuelva el promedio de todos sus elementos."
   ]
  },
  {
   "cell_type": "code",
   "execution_count": 6,
   "metadata": {},
   "outputs": [
    {
     "name": "stdout",
     "output_type": "stream",
     "text": [
      "El promedio de la lista es: 30.0\n"
     ]
    }
   ],
   "source": [
    "def calcular_promedio(lista):\n",
    "    if len(lista) == 0:\n",
    "        return 0\n",
    "    else:\n",
    "        return sum(lista) / len(lista)\n",
    "\n",
    "# Ejemplo de uso\n",
    "numeros = [10, 20, 30, 40, 50]\n",
    "promedio = calcular_promedio(numeros)\n",
    "print(\"El promedio de la lista es:\", promedio)\n"
   ]
  },
  {
   "cell_type": "markdown",
   "metadata": {},
   "source": [
    "\n",
    "5.Calcular el interés compuesto.\n",
    "\n",
    "Descripción: Crea una función llamada calcular_interes_compuesto que tome el capital inicial, la tasa de interés y el número de períodos como parámetros y devuelva el beneficio final después del interés compuesto."
   ]
  },
  {
   "cell_type": "code",
   "execution_count": null,
   "metadata": {},
   "outputs": [],
   "source": []
  },
  {
   "cell_type": "markdown",
   "metadata": {},
   "source": [
    "6.Validar si una palabra es un anagrama de otra.\n",
    "\n",
    "Descripción: Crea una función llamada es_anagrama que tome dos palabras como parámetros y devuelva True si una es un anagrama de la otra, o False si no lo es.\n",
    "\n",
    "anagrama = Cambio en el orden de las letras de una palabra o frase que da lugar a otra palabra o frase distinta.(amor, roma)\n"
   ]
  },
  {
   "cell_type": "code",
   "execution_count": null,
   "metadata": {},
   "outputs": [],
   "source": []
  },
  {
   "cell_type": "markdown",
   "metadata": {},
   "source": [
    "7.Validar si una cadena de texto es un isograma.\n",
    "\n",
    "Descripción: Crea una función llamada es_isograma que tome una cadena de texto como parámetro y devuelva True si es un isograma. En caso contrario, devuelve False.\n",
    "\n",
    "¿Qué es un isograma? Una palabra que no contiene letras repetidas.\n"
   ]
  },
  {
   "cell_type": "code",
   "execution_count": null,
   "metadata": {},
   "outputs": [],
   "source": []
  },
  {
   "cell_type": "markdown",
   "metadata": {},
   "source": [
    "8.Concatenar múltiples cadenas de texto\n",
    "\n",
    "Descripción: Crea una función llamada concatenar_cadenas que tome una cantidad variable de cadenas de texto como argumentos y devuelva una única cadena que contenga la concatenación de todas las cadenas ingresadas.\n"
   ]
  },
  {
   "cell_type": "code",
   "execution_count": null,
   "metadata": {},
   "outputs": [],
   "source": []
  },
  {
   "cell_type": "markdown",
   "metadata": {},
   "source": [
    "9.Crear un diccionario con información de una persona.\n",
    "\n",
    "Descripción: Crea una función llamada crear_persona que tome como argumentos clave-valor los datos de una persona, como nombre, edad, ciudad, etc., y devuelva un diccionario con toda la información ingresada.\n",
    "\n"
   ]
  },
  {
   "cell_type": "code",
   "execution_count": 8,
   "metadata": {},
   "outputs": [],
   "source": [
    "def crear_persona(**kwargs):\n",
    "    datos_persona = {}\n",
    "    for clave, valor in kwargs.items():\n",
    "        datos_persona[clave] = valor\n",
    "\n",
    "    return datos_persona"
   ]
  },
  {
   "cell_type": "code",
   "execution_count": 9,
   "metadata": {},
   "outputs": [
    {
     "data": {
      "text/plain": [
       "{'nombre': 'pepe', 'primer_apellido': 'gonzalez', 'profesion': 'carpintero'}"
      ]
     },
     "execution_count": 9,
     "metadata": {},
     "output_type": "execute_result"
    }
   ],
   "source": [
    "datos_persona = crear_persona (nombre= \"pepe\", primer_apellido= \"gonzalez\", profesion= \"carpintero\")\n",
    "datos_persona\n"
   ]
  },
  {
   "cell_type": "markdown",
   "metadata": {},
   "source": [
    "10.Encontrar el número que falta en una lista ordenada de números consecutivos.\n",
    "\n",
    "Descripción: Crea una función llamada encontrar_numero_faltante que tome una lista de números consecutivos (del 1 al N, sin repetir) con un número faltante y devuelva ese número faltante.\n"
   ]
  },
  {
   "cell_type": "code",
   "execution_count": 10,
   "metadata": {},
   "outputs": [
    {
     "name": "stdout",
     "output_type": "stream",
     "text": [
      "El número que falta es: 7\n"
     ]
    }
   ],
   "source": [
    "def encontrar_faltante(lista, n):\n",
    "    # Calcular la suma total de los números del 1 al n\n",
    "    suma_total = (n * (n + 1)) // 2\n",
    "    \n",
    "    # Calcular la suma de los números en la lista\n",
    "    suma_lista = sum(lista)\n",
    "    \n",
    "    # El número que falta es la diferencia entre la suma total y la suma de la lista\n",
    "    numero_faltante = suma_total - suma_lista\n",
    "    \n",
    "    return numero_faltante\n",
    "\n",
    "# Ejemplo de uso\n",
    "n = 10\n",
    "lista = [1, 2, 3, 4, 5, 6, 8, 9, 10]  # El número 9 falta en esta lista\n",
    "numero_faltante = encontrar_faltante(lista, n)\n",
    "print(\"El número que falta es:\", numero_faltante)\n",
    "\n",
    "## "
   ]
  },
  {
   "cell_type": "markdown",
   "metadata": {},
   "source": [
    "11.Encontrar el elemento duplicado en una lista de números.\n",
    "\n",
    "Descripción: Crea una función llamada encontrar_duplicado que tome una lista de números enteros y devuelva el elemento que está duplicado en la lista."
   ]
  },
  {
   "cell_type": "code",
   "execution_count": null,
   "metadata": {},
   "outputs": [],
   "source": []
  },
  {
   "cell_type": "code",
   "execution_count": 12,
   "metadata": {},
   "outputs": [
    {
     "name": "stdout",
     "output_type": "stream",
     "text": [
      "120\n"
     ]
    }
   ],
   "source": [
    "#NOTAS LUANA \n",
    "\n",
    " # Calcular la suma total de los números del 1 al n\n",
    "#### formula para calcular la suma total de los elementos de una lista de numeros naturales es (n * (n + 1)) // 2 ¡¡¡¡¡¡¡ EL N ES SIEMPRE EL ULTIMO NUMERO DE LA LISTA!!!!!!!\n",
    "\n",
    "suma_total = (11, 12, 13, 14, 15)\n",
    "suma_total = (15 * (15 + 1)) // 2\n",
    "print(suma_total)\n"
   ]
  },
  {
   "cell_type": "code",
   "execution_count": null,
   "metadata": {},
   "outputs": [],
   "source": []
  }
 ],
 "metadata": {
  "kernelspec": {
   "display_name": "base",
   "language": "python",
   "name": "python3"
  },
  "language_info": {
   "codemirror_mode": {
    "name": "ipython",
    "version": 3
   },
   "file_extension": ".py",
   "mimetype": "text/x-python",
   "name": "python",
   "nbconvert_exporter": "python",
   "pygments_lexer": "ipython3",
   "version": "3.12.2"
  }
 },
 "nbformat": 4,
 "nbformat_minor": 2
}
