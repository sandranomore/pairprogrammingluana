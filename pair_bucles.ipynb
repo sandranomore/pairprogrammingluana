{
 "cells": [
  {
   "cell_type": "markdown",
   "metadata": {},
   "source": [
    "1.Imprimir los números del 1 al 5 utilizando un bucle for\n",
    "\n",
    "Descripción: Utiliza un bucle for para imprimir los números del 1 al 5 (incluido) en orden ascendente."
   ]
  },
  {
   "cell_type": "code",
   "execution_count": 14,
   "metadata": {},
   "outputs": [
    {
     "name": "stdout",
     "output_type": "stream",
     "text": [
      "1\n",
      "2\n",
      "3\n",
      "4\n",
      "5\n"
     ]
    }
   ],
   "source": [
    "Lista_numeros = (1,2,3,4,5)\n",
    "for numero in Lista_numeros:\n",
    "    print(numero)"
   ]
  },
  {
   "cell_type": "code",
   "execution_count": 15,
   "metadata": {},
   "outputs": [
    {
     "name": "stdout",
     "output_type": "stream",
     "text": [
      "1\n",
      "2\n",
      "3\n",
      "4\n",
      "5\n"
     ]
    }
   ],
   "source": [
    "Lista_numero = ()\n",
    "for numero in range (1,6):\n",
    "    print(numero)"
   ]
  },
  {
   "cell_type": "markdown",
   "metadata": {},
   "source": [
    "2.Calcular la suma de los primeros 10 números naturales utilizando un bucle for\n",
    "\n",
    "Descripción: Utiliza un bucle for para calcular la suma de los primeros 10 números naturales (1 + 2 + 3 + ... + 10)."
   ]
  },
  {
   "cell_type": "code",
   "execution_count": 16,
   "metadata": {},
   "outputs": [
    {
     "name": "stdout",
     "output_type": "stream",
     "text": [
      "La suma de los primeros 10 números naturales es: 55\n"
     ]
    }
   ],
   "source": [
    "suma = 0\n",
    "\n",
    "for num in range(1, 11):\n",
    "    suma += num\n",
    "\n",
    "print(\"La suma de los primeros 10 números naturales es:\", suma)"
   ]
  },
  {
   "cell_type": "markdown",
   "metadata": {},
   "source": [
    "3.Calcular el producto de los elementos de una lista\n",
    "\n",
    "Descripción: Dada una lista de números, utiliza un bucle for para calcular el producto de todos los elementos.\n"
   ]
  },
  {
   "cell_type": "code",
   "execution_count": 17,
   "metadata": {},
   "outputs": [
    {
     "name": "stdout",
     "output_type": "stream",
     "text": [
      "El producto de los elementos de la lista es: 120\n"
     ]
    }
   ],
   "source": [
    "numeros = [1,2,3,4,5]\n",
    "producto = 1\n",
    "for num in numeros:\n",
    "    producto *= num\n",
    "\n",
    "print (\"El producto de los elementos de la lista es:\", producto)"
   ]
  },
  {
   "cell_type": "markdown",
   "metadata": {},
   "source": [
    "4.Imprimir los caracteres de una cadena de texto\n",
    "\n",
    "Descripción: Dada una cadena de texto, utiliza un bucle for para imprimir cada carácter en una línea separada."
   ]
  },
  {
   "cell_type": "code",
   "execution_count": 18,
   "metadata": {},
   "outputs": [
    {
     "name": "stdout",
     "output_type": "stream",
     "text": [
      "c\n",
      "a\n",
      "d\n",
      "e\n",
      "n\n",
      "a\n",
      " \n",
      "d\n",
      "e\n",
      " \n",
      "t\n",
      "e\n",
      "x\n",
      "t\n",
      "o\n"
     ]
    }
   ],
   "source": [
    "texto = \"cadena de texto\"\n",
    "for letra in texto:\n",
    "    print(letra)"
   ]
  },
  {
   "cell_type": "markdown",
   "metadata": {},
   "source": [
    "5.Imprimir los números pares del 1 al 100 utilizando un bucle for\n",
    "\n",
    "Descripción: Utiliza un bucle for para imprimir los números pares del 1 al 100 en orden ascendente."
   ]
  },
  {
   "cell_type": "code",
   "execution_count": 19,
   "metadata": {},
   "outputs": [
    {
     "name": "stdout",
     "output_type": "stream",
     "text": [
      "[2, 4, 6, 8, 10, 12, 14, 16, 18, 20, 22, 24, 26, 28, 30, 32, 34, 36, 38, 40, 42, 44, 46, 48, 50, 52, 54, 56, 58, 60, 62, 64, 66, 68, 70, 72, 74, 76, 78, 80, 82, 84, 86, 88, 90, 92, 94, 96, 98, 100]\n"
     ]
    }
   ],
   "source": [
    "lista = [num for num in range (2,101,2)]\n",
    "print(lista)"
   ]
  },
  {
   "cell_type": "markdown",
   "metadata": {},
   "source": [
    "6.Imprimir los números primos del 1 al 50 utilizando un bucle for\n",
    "\n",
    "Descripción: Utiliza un bucle for para imprimir los números primos del 1 al 50 en orden ascendente.\n",
    "\n",
    "NOTA: Según la Wikipedia, un número primo es un número natural mayor que 1 que no tiene divisores positivos más que 1 y él mismo."
   ]
  },
  {
   "cell_type": "code",
   "execution_count": 20,
   "metadata": {},
   "outputs": [
    {
     "name": "stdout",
     "output_type": "stream",
     "text": [
      "Números primos del 1 al 50:\n",
      "2\n",
      "3\n",
      "5\n",
      "7\n",
      "11\n",
      "13\n",
      "17\n",
      "19\n",
      "23\n",
      "29\n",
      "31\n",
      "37\n",
      "41\n",
      "43\n",
      "47\n"
     ]
    }
   ],
   "source": [
    "print(\"Números primos del 1 al 50:\")\n",
    "for num in range(2, 51):\n",
    "    es_primo = True\n",
    "    for i in range(2, int(num**0.5) + 1):\n",
    "        if num % i == 0:\n",
    "            es_primo = False\n",
    "            break\n",
    "    if es_primo:\n",
    "        print(num)\n"
   ]
  },
  {
   "cell_type": "markdown",
   "metadata": {},
   "source": [
    "\n",
    "7.Calcular el factorial de un número utilizando un bucle for\n",
    "\n",
    "Descripción: Dado un número entero positivo, calcula su factorial utilizando un bucle for."
   ]
  },
  {
   "cell_type": "code",
   "execution_count": 21,
   "metadata": {},
   "outputs": [
    {
     "name": "stdout",
     "output_type": "stream",
     "text": [
      "El factorial de 6 es: 720\n"
     ]
    }
   ],
   "source": [
    "numero = int(input(\"Ingrese un número entero positivo: \"))\n",
    "\n",
    "if numero < 0:\n",
    "    print(\"El número ingresado no es positivo.\")\n",
    "else:\n",
    "    factorial = 1\n",
    "\n",
    "    for i in range(1, numero + 1):\n",
    "        factorial *= i\n",
    "\n",
    "    print(\"El factorial de\", numero, \"es:\", factorial)"
   ]
  },
  {
   "cell_type": "markdown",
   "metadata": {},
   "source": [
    "\n",
    "8.Juego de adivinar palabras utilizando un bucle for\n",
    "\n",
    "Descripción: Crea un juego en el que el jugador debe adivinar una palabra secreta. El jugador tiene un número limitado de intentos y se le proporcionan pistas después de cada intento. Utiliza un bucle for para controlar los intentos del jugador."
   ]
  },
  {
   "cell_type": "code",
   "execution_count": 22,
   "metadata": {},
   "outputs": [
    {
     "name": "stdout",
     "output_type": "stream",
     "text": [
      "¡Bienvenido al juego de adivinar palabras!\n",
      "Tienes 3 intentos para adivinar la palabra secreta.\n",
      "¡Incorrecto! Sigue intentando.\n",
      "¡Incorrecto! Sigue intentando.\n",
      "¡Incorrecto! Sigue intentando.\n",
      "Lo siento, has agotado tus intentos. La palabra secreta era: python\n"
     ]
    }
   ],
   "source": [
    "palabra_secreta = \"python\"\n",
    "\n",
    "intentos_maximos = 3\n",
    "\n",
    "print(\"¡Bienvenido al juego de adivinar palabras!\")\n",
    "print(\"Tienes\", intentos_maximos, \"intentos para adivinar la palabra secreta.\")\n",
    "\n",
    "for intento in range(1, intentos_maximos + 1):\n",
    "    intento_usuario = input(\"Intento #\" + str(intento) + \": \").lower()\n",
    "\n",
    "    if intento_usuario == palabra_secreta:\n",
    "        print(\"¡Felicidades! Has adivinado la palabra secreta.\")\n",
    "        break\n",
    "    else:\n",
    "        print(\"¡Incorrecto! Sigue intentando.\")\n",
    "\n",
    "else:\n",
    "    print(\"Lo siento, has agotado tus intentos. La palabra secreta era:\", palabra_secreta)\n"
   ]
  },
  {
   "cell_type": "markdown",
   "metadata": {},
   "source": [
    "EJERCICIOS LIST COMPREHENSION\n"
   ]
  },
  {
   "cell_type": "markdown",
   "metadata": {},
   "source": [
    "\n",
    "1.Generar una lista de los números pares del 1 al 20.\n",
    "\n",
    "Descripción: Utiliza list comprehension para generar una lista que contenga todos los números pares en el rango del 1 al 20."
   ]
  },
  {
   "cell_type": "code",
   "execution_count": 23,
   "metadata": {},
   "outputs": [
    {
     "name": "stdout",
     "output_type": "stream",
     "text": [
      "Números pares del 1 al 20: [2, 4, 6, 8, 10, 12, 14, 16, 18, 20]\n"
     ]
    }
   ],
   "source": [
    "numeros_pares = [num for num in range(1, 21) if num % 2 == 0]\n",
    "\n",
    "print(\"Números pares del 1 al 20:\", numeros_pares)"
   ]
  },
  {
   "cell_type": "markdown",
   "metadata": {},
   "source": [
    "2.Obtener una lista de las vocales en una cadena de texto.\n",
    "\n",
    "Descripción: Utiliza list comprehension para crear una lista que contenga todas las vocales presentes en una cadena de texto (sin repetición).\n"
   ]
  },
  {
   "cell_type": "code",
   "execution_count": 25,
   "metadata": {},
   "outputs": [
    {
     "name": "stdout",
     "output_type": "stream",
     "text": [
      "Vocales en la cadena de texto (sin repetición): ['o', 'a']\n"
     ]
    }
   ],
   "source": [
    "\n",
    "texto = \"Hola soy Sandra\"\n",
    "\n",
    "vocales = [letra for letra in texto.lower() if letra in 'aeiou']\n",
    "\n",
    "vocales_sin_repetir = list(set(vocales))\n",
    "\n",
    "print(\"Vocales en la cadena de texto (sin repetición):\", vocales_sin_repetir)\n"
   ]
  },
  {
   "cell_type": "markdown",
   "metadata": {},
   "source": [
    "3.Filtrar los números positivos de una lista y calcular su cuadrado.\n",
    "\n",
    "Descripción: Utiliza list comprehension para filtrar los números positivos de una lista y calcular el cuadrado de cada uno.\n"
   ]
  },
  {
   "cell_type": "code",
   "execution_count": 27,
   "metadata": {},
   "outputs": [
    {
     "name": "stdout",
     "output_type": "stream",
     "text": [
      "Cuadrados de los números positivos: [25, 64, 100]\n"
     ]
    }
   ],
   "source": [
    "numeros = [5, -3, 8, -2, 10]\n",
    "\n",
    "cuadrados_numeros_positivos = [num ** 2 for num in numeros if num > 0]\n",
    "\n",
    "print(\"Cuadrados de los números positivos:\", cuadrados_numeros_positivos)\n"
   ]
  },
  {
   "cell_type": "markdown",
   "metadata": {},
   "source": [
    "EJERCICIOS TRY...EXCEPT\n"
   ]
  },
  {
   "cell_type": "markdown",
   "metadata": {},
   "source": [
    "1.Realizar una búsqueda en una lista y capturar una excepción en caso de valor no encontrado.\n",
    "\n",
    "Descripción: Solicita al usuario una lista de nombres y un nombre para buscar en la lista. Intenta encontrar el nombre en la lista y utiliza las sentencias try y except para capturar la excepción en caso de que el nombre no sea encontrado.\n"
   ]
  },
  {
   "cell_type": "code",
   "execution_count": null,
   "metadata": {},
   "outputs": [],
   "source": [
    "try:\n",
    "    \n",
    "    lista_nombres = input(\"Ingrese una lista de nombres separados por coma: \").split(',')\n",
    "\n",
    "    nombre_buscar = input(\"Ingrese el nombre que desea buscar: \")\n",
    "\n",
    "    if nombre_buscar in lista_nombres:\n",
    "        print(\"El nombre\", nombre_buscar, \"se encuentra en la lista.\")\n",
    "    else:\n",
    "        raise ValueError(\"El nombre no se encuentra en la lista.\")\n",
    "\n",
    "except ValueError as e:\n",
    "    print(e)\n"
   ]
  }
 ],
 "metadata": {
  "kernelspec": {
   "display_name": "base",
   "language": "python",
   "name": "python3"
  },
  "language_info": {
   "codemirror_mode": {
    "name": "ipython",
    "version": 3
   },
   "file_extension": ".py",
   "mimetype": "text/x-python",
   "name": "python",
   "nbconvert_exporter": "python",
   "pygments_lexer": "ipython3",
   "version": "3.9.7"
  }
 },
 "nbformat": 4,
 "nbformat_minor": 2
}
